{
 "cells": [
  {
   "cell_type": "markdown",
   "id": "c1e98b58",
   "metadata": {},
   "source": [
    "# Computational Linear Algebra: Assignment 2"
   ]
  },
  {
   "cell_type": "markdown",
   "id": "db2a224a",
   "metadata": {},
   "source": [
    "****\n",
    "### Q1. Write the Python function to generate the Matrix of minors of 3 x 3 Matrix, without using NumPy libraries.                 Write python code find out the Matrix of Minors of the given 3 X3 Matrix using this function.\n",
    "\n",
    "#### Input: \n",
    "Elements of the 3 X 3 Matrix\n",
    "\n",
    "#### Output: \n",
    "Matrix of Minors of 3 x 3 Matrix corresponding to 3 x3 Matrix.\n",
    "****"
   ]
  },
  {
   "cell_type": "markdown",
   "id": "e72686ff",
   "metadata": {},
   "source": [
    "****\n",
    "#### Solution:\n",
    "\n",
    "#### Theory behind the Matrix of Minors:\n",
    "\n",
    "##### Minor of a Matrix\n",
    "\n",
    "To find the minor of a matrix, we take the determinant of each smaller matrix, obtained by deleting the corresponding rows and columns of each element in the matrix. Since in the large matrices, there are many rows and columns with multiple elements, therefore we can make many minors of those matrices. We label these minors according to the row and column they belong to.\n",
    "\n",
    "We know that the square matrix has an equal number of rows and columns in it. It can be of a 2x2 or 3x3 form. Each element in the square matrix has its minor.\n",
    "\n",
    "For example, consider the following simple square matrix:\n",
    "\n",
    "\\begin{pmatrix}\n",
    "a1 & b1 & c1\\\\\n",
    "a2 & b2 & c2 \\\\\n",
    "a3 & b3 & c3 \n",
    "\\end{pmatrix}\n",
    "\n",
    "To find the minor of each element, we will delete the corresponding row and column of each element and write the minors in the matrix notation.\n",
    "\n",
    "e.g. M11 ie the minor of the element a1 is ,\n",
    "\\begin{vmatrix}\n",
    "b2 & c2\\\\\n",
    "b3 & c3\n",
    "\\end{vmatrix}\n",
    "\n",
    "Therefore the Matrix of Minors would be:\n",
    "\\begin{pmatrix}\n",
    "M11 & M12 & M13\\\\\n",
    "M21 & M22 & M23 \\\\\n",
    "M31 & M32 & M33 \n",
    "\\end{pmatrix}\n",
    "\n",
    "***"
   ]
  },
  {
   "cell_type": "markdown",
   "id": "f81f735f",
   "metadata": {},
   "source": [
    "***\n",
    "1. In this solution the value of 3 X 3 matrix is taken from the user and then the stored as list.\n",
    "\n",
    "2. This list(or matrix) is then passed into the function minorMatrix()  which calculates the matrix of minors and returns it\n",
    "\n",
    "    - Idea in the function is that an empty matrix is created initially\n",
    "    - Each time the minor matrix is created using the pop function to eliminate the elements in the same row and column of the reference element\n",
    "    - This minor matrix is fed into det2() which finds out the determinant of the minor\n",
    "    - This det2(minor) is then added to each zero element in the null matrix created initially to get the Matrix of Minors\n",
    "***"
   ]
  },
  {
   "cell_type": "code",
   "execution_count": 1,
   "id": "91906341",
   "metadata": {},
   "outputs": [],
   "source": [
    "# Declaring library dependency\n",
    "# Declaring all the functions\n",
    "\n",
    "import copy \n",
    "\n",
    "\n",
    "#Take input from user and make sure it is a number and not punctuations or string etc for the input of matrix elements\n",
    "\n",
    "def inputElement(msg,no_of_elements):     \n",
    "    while True:\n",
    "        try:\n",
    "            userInput = input(msg).split()\n",
    "            if len(userInput)!= no_of_elements:\n",
    "                print(\"No of elements not matching!\")\n",
    "                continue\n",
    "            else:\n",
    "                for ele in userInput:\n",
    "                    float(ele)\n",
    "        except ValueError:\n",
    "            print(\"Not a number! Try again.\")\n",
    "            continue     \n",
    "        else:\n",
    "            return list(map(float,userInput)) \n",
    "            break    \n",
    "            \n",
    "\n",
    "            \n",
    "# Creating the null Matrix for defined dimension default is 3X3 matrix\n",
    "\n",
    "def createEmptyMatrix(rows=3,cols=3):\n",
    "    mat = []\n",
    "    for i in range(rows):\n",
    "        mat.append([])\n",
    "        for j in range(cols):\n",
    "            mat[i].append(j*0)\n",
    "    \n",
    "    return mat\n",
    "\n",
    "# Calculate the determinant of 2X2 matrix\n",
    "\n",
    "def det2(m):\n",
    "    a = m[0][0]*m[1][1] - m[1][0]*m[0][1]\n",
    "    return a\n",
    "\n",
    "# Calculate minor of the matrix\n",
    "def minorMatrix(matrix,d):\n",
    "    \n",
    "    a = createEmptyMatrix() # Create empty matrix to store the values of determinant of minors\n",
    "    for col in range(d):\n",
    "        m = []\n",
    "        \n",
    "        m = copy.deepcopy(matrix)\n",
    "\n",
    "        [l.pop(col) for l in m ]\n",
    "\n",
    "        for row in range(d):\n",
    "            r = m.copy()\n",
    "\n",
    "            r.pop(row)\n",
    "            \n",
    "            # adding the minor value to the respective element in empty matrix to store values \n",
    "            # det2 is a function declared already and hence has been called directily inside this function\n",
    "            \n",
    "            a[row][col] += det2(r) \n",
    "            \n",
    "            # Underneath loop is meant for printing individual minors for reference if needed\n",
    "            '''\n",
    "            print('M' + str(row+1) + str(col+1) + '\\n')\n",
    "            for i in range(d-1):\n",
    "                print(r[i])\n",
    "            print()\n",
    "            '''\n",
    "    print(\"Minor Matrix : \\n\")\n",
    "    for i in range(3):\n",
    "        print(a[i])\n",
    "    print()\n",
    "    return a"
   ]
  },
  {
   "cell_type": "code",
   "execution_count": 2,
   "id": "c608a4a6",
   "metadata": {},
   "outputs": [
    {
     "name": "stdout",
     "output_type": "stream",
     "text": [
      "Creating 3X3 Matrix \n",
      "\n",
      "Enter elments for first Matrix Row 1 containing 3 elements 3 4 5\n",
      "Enter elments for first Matrix Row 2 containing 3 elements 3 4 5\n",
      "Enter elments for first Matrix Row 3 containing 3 elements 3 6 7\n"
     ]
    }
   ],
   "source": [
    "#Get the elements for 3X3 matrix\n",
    "print(\"Creating 3X3 Matrix \\n\")\n",
    "m = 3\n",
    "mx = []\n",
    "# Take input of the elements in the matrix\n",
    "for i in range(m):\n",
    "        mxTemp = inputElement(\"Enter elements for Matrix Row \" + str(i+1) + \" containing \" + str(m) + \" elements \", m)\n",
    "        mx.append(mxTemp)"
   ]
  },
  {
   "cell_type": "code",
   "execution_count": 3,
   "id": "7d790bfd",
   "metadata": {
    "scrolled": true
   },
   "outputs": [
    {
     "name": "stdout",
     "output_type": "stream",
     "text": [
      "Minor Matrix : \n",
      "\n",
      "[-2.0, 6.0, 6.0]\n",
      "[-2.0, 6.0, 6.0]\n",
      "[0.0, 0.0, 0.0]\n",
      "\n"
     ]
    }
   ],
   "source": [
    "#printing the original matrix and resultant minors and Matrix of minors\n",
    "\n",
    "x = minorMatrix(mx,len(mx)) \n"
   ]
  },
  {
   "cell_type": "code",
   "execution_count": null,
   "id": "53b62856",
   "metadata": {},
   "outputs": [],
   "source": []
  }
 ],
 "metadata": {
  "kernelspec": {
   "display_name": "Python 3 (ipykernel)",
   "language": "python",
   "name": "python3"
  },
  "language_info": {
   "codemirror_mode": {
    "name": "ipython",
    "version": 3
   },
   "file_extension": ".py",
   "mimetype": "text/x-python",
   "name": "python",
   "nbconvert_exporter": "python",
   "pygments_lexer": "ipython3",
   "version": "3.9.12"
  }
 },
 "nbformat": 4,
 "nbformat_minor": 5
}
