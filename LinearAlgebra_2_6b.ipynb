{
 "cells": [
  {
   "cell_type": "markdown",
   "id": "c1e98b58",
   "metadata": {},
   "source": [
    "# Computational Linear Algebra: Assignment 2"
   ]
  },
  {
   "cell_type": "markdown",
   "id": "b9bd189e",
   "metadata": {},
   "source": [
    "*****\n",
    "### 6. You are given augmented Matrix corresponding to system of linear equations consisting of three equations made up of three variables.\n",
    "\n",
    "b) Write the python code to find the solution of above set of equations without using NumPy library using Cramer’s method. (Use the functions in question 4).\n",
    "\n",
    "#### Input:\n",
    "\n",
    "Augmented matrix corresponding to system of linear equations consisting of three equations\n",
    "made up of three variables\n",
    "\n",
    "#### Output:\n",
    "\n",
    "Solution Matrix.\n",
    "Verify your result using NumPy Library.\n",
    "\n",
    "****"
   ]
  },
  {
   "cell_type": "markdown",
   "id": "0eafda82",
   "metadata": {},
   "source": [
    "****\n",
    "#### Solution: b)\n",
    "\n",
    "##### Theory behind Cramer's Rule\n",
    "\n",
    "To find the Cramer’s rule formula for a 3×3 matrix, we need to consider the system of 3 equations with three variables.\n",
    "\n",
    "Consider:\n",
    "\n",
    "a1x + b1y + c1z = d1\n",
    "\n",
    "a2x + b2y + c2z = d2\n",
    "\n",
    "a3x + b3y + c3z = d3\n",
    "\n",
    "\n",
    "$D:\n",
    "\\begin{vmatrix}\n",
    "a1 & b1 & c1\\\\\n",
    "a2 & b2 & c2\\\\\n",
    "a3 & b3 & c3\n",
    "\\end{vmatrix}\n",
    "D1:\n",
    "\\begin{vmatrix}\n",
    "d1 & b1 & c1\\\\\n",
    "d2 & b2 & c2\\\\\n",
    "d3 & b3 & c3\n",
    "\\end{vmatrix}\n",
    "D2:\n",
    "\\begin{vmatrix}\n",
    "a1 & d1 & c1\\\\\n",
    "a2 & d2 & c2\\\\\n",
    "a3 & d3 & c3\n",
    "\\end{vmatrix}\n",
    "D3:\n",
    "\\begin{vmatrix}\n",
    "a1 & b1 & d1\\\\\n",
    "a2 & b2 & d2\\\\\n",
    "a3 & b3 & d3\n",
    "\\end{vmatrix}$\n",
    "\n",
    " \n",
    "#### Cramer’s Rule Conditions\n",
    "\n",
    "There are certain conditions to applying Cramer’s rule for solving the given system of equations. Some of them include the following:\n",
    "\n",
    "Cramer’s rule fails for the system of equations in which D = 0 since for finding the values of unknowns, D must be in the denominator and hence these values go undefined.\n",
    "\n",
    "Also, when D = 0, there will be two possibilities for which:\n",
    "\n",
    "    -The system may have no solution.\n",
    "    \n",
    "    -The system may have an infinite number of solutions.\n",
    "\n",
    "From this, we can say that at least one of the numerator determinants is a 0 (that means infinitely many solutions) or none of the numerator determinants is 0 (that means no solution)\n",
    "\n",
    "If D ≠ 0, we say that the system AX = B has a unique solution.\n",
    "\n",
    "$$\n",
    "x = \\frac{D1}{D}, y = \\frac{D2}{D} , z = \\frac{D3}{D}\\\\\n",
    "$$\n",
    "\n",
    "### Approach to this problem is as below:\n",
    "1. Take the coefficient of the equations as input from user\n",
    "2. Store the information in a matrix format i.e.\n",
    "\\begin{pmatrix}\n",
    "a1 & b1 & c1 &| & d1\\\\\n",
    "a2 & b2 & c2 &| & d2\\\\\n",
    "a3 & b3 & c3 &| & d3\n",
    "\\end{pmatrix}\n",
    "\n",
    "3. Now we need to create 4 differernt determinant for calculation as per Cramer's rule for 3 variable equation, i.e. D, D1, D2 & D3\n",
    "The same logic has been applied and solution matrix is calculated once the obtained matrix is fed to the function solve3det\n",
    "\n",
    "****\n"
   ]
  },
  {
   "cell_type": "code",
   "execution_count": 29,
   "id": "d400d6d8",
   "metadata": {},
   "outputs": [],
   "source": [
    "\n",
    "#Take input from user and make sure it is a number and not punctuations or string etc for the input of matrix elements\n",
    "\n",
    "def inputElement(msg,no_of_elements):     \n",
    "    while True:\n",
    "        try:\n",
    "            userInput = input(msg).split()\n",
    "            if len(userInput)!= no_of_elements:\n",
    "                print(\"No of elements not matching!\")\n",
    "                continue\n",
    "            else:\n",
    "                for ele in userInput:\n",
    "                    float(ele)\n",
    "        except ValueError:\n",
    "            print(\"Not a number! Try again.\")\n",
    "            continue     \n",
    "        else:\n",
    "            return list(map(float,userInput)) \n",
    "            break    \n",
    "            \n",
    "\n",
    "# Finding the determinant of 3 X 3 Matrix\n",
    "def det3(m):\n",
    "    for i in range(3):\n",
    "        for j in range(3):\n",
    "            d = m[0][0]*(m[1][1]*m[2][2] - m[2][1]*m[1][2]) - m[0][1]*(m[1][0]*m[2][2] - m[2][0]*m[1][2]) + m[0][2]*(m[1][0]*m[2][1] - m[2][0]*m[1][1])\n",
    "    return d    \n",
    "\n",
    "\n",
    "\n",
    "def solve3det(m):\n",
    "    D= []\n",
    "    D1 = []\n",
    "    D2 = []\n",
    "    D3 = []\n",
    "    b = []\n",
    "    for i in range(3):\n",
    "            D.append(AB[i][0:3])\n",
    "            D1.append(AB[i][0:3])\n",
    "            D2.append(AB[i][0:3])\n",
    "            D3.append(AB[i][0:3])\n",
    "            b.append(AB[i][3]) \n",
    "\n",
    "    for j in range(3):\n",
    "        D1[j][0] = b[j]\n",
    "        D2[j][1] = b[j]\n",
    "        D3[j][2] = b[j]\n",
    "    \n",
    "    \n",
    "    d = det3(D)\n",
    "    d1 = det3(D1)\n",
    "    d2 = det3(D2)\n",
    "    d3 = det3(D3)\n",
    "    a = []\n",
    "    if d != 0:\n",
    "        a.append(d1/d)\n",
    "        a.append(d2/d)\n",
    "        a.append(d3/d)\n",
    "\n",
    "        return a\n",
    "    else :\n",
    "        if (a[0]*a[1]*a[2]== 0) :\n",
    "            # this condition means atleast one of the value is zero\n",
    "            print('Infinitely many solution is available')\n",
    "        else:\n",
    "            # This condition is activated if none of the numerator determinant value is zero\n",
    "            print('No Solution is available')   \n",
    "    return"
   ]
  },
  {
   "cell_type": "code",
   "execution_count": 2,
   "id": "a1e83062",
   "metadata": {},
   "outputs": [
    {
     "name": "stdout",
     "output_type": "stream",
     "text": [
      "Enter elements for Augmented Matrix Matrix A|B for equation in 3 variables : \n",
      "\n",
      "Enter coefficients of the linear equation 1 containing 3 variables for Augmented Matrix A|B 1 2 3 4\n",
      "Enter coefficients of the linear equation 2 containing 3 variables for Augmented Matrix A|B 5 6 7 8\n",
      "Enter coefficients of the linear equation 3 containing 3 variables for Augmented Matrix A|B 9 0 1 2\n"
     ]
    }
   ],
   "source": [
    "#Take the elements for Augmented Matrix Matrix A|B for equation in 3 variables\n",
    "m = 3\n",
    "AB = []\n",
    "#Get the elements for Augmented matrix A|B\n",
    "print('Enter elements for Augmented Matrix Matrix A|B for equation in 3 variables : \\n')\n",
    "for i in range(m):\n",
    "        mxTemp = inputElement(\"Enter coefficients of the linear equation \" + str(i+1) + \" containing \" + str(m) + \" variables for Augmented Matrix A|B \", 4)\n",
    "        AB.append(mxTemp)"
   ]
  },
  {
   "cell_type": "code",
   "execution_count": 37,
   "id": "8ac5fc79",
   "metadata": {},
   "outputs": [
    {
     "data": {
      "text/plain": [
       "[-0.0, -1.0, 2.0]"
      ]
     },
     "execution_count": 37,
     "metadata": {},
     "output_type": "execute_result"
    }
   ],
   "source": [
    "solve3det(AB)"
   ]
  },
  {
   "cell_type": "code",
   "execution_count": 35,
   "id": "de652de2",
   "metadata": {},
   "outputs": [
    {
     "data": {
      "text/plain": [
       "array([ 0., -1.,  2.])"
      ]
     },
     "execution_count": 35,
     "metadata": {},
     "output_type": "execute_result"
    }
   ],
   "source": [
    "import numpy as np\n",
    "np.linalg.solve(D,b).round(4)"
   ]
  },
  {
   "cell_type": "code",
   "execution_count": null,
   "id": "643f5639",
   "metadata": {},
   "outputs": [],
   "source": []
  }
 ],
 "metadata": {
  "kernelspec": {
   "display_name": "Python 3 (ipykernel)",
   "language": "python",
   "name": "python3"
  },
  "language_info": {
   "codemirror_mode": {
    "name": "ipython",
    "version": 3
   },
   "file_extension": ".py",
   "mimetype": "text/x-python",
   "name": "python",
   "nbconvert_exporter": "python",
   "pygments_lexer": "ipython3",
   "version": "3.9.12"
  }
 },
 "nbformat": 4,
 "nbformat_minor": 5
}
