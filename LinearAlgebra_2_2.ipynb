{
 "cells": [
  {
   "cell_type": "markdown",
   "id": "c1e98b58",
   "metadata": {},
   "source": [
    "# Computational Linear Algebra"
   ]
  },
  {
   "cell_type": "markdown",
   "id": "a7309b35",
   "metadata": {},
   "source": [
    "***\n",
    "### Q. Write the Python function to generate the Matrix of co-factors of 3 x 3 Matrix, without using NumPy libraries. Write python code find out the Matrix of Matrix of co-factors of the given 3 X3 Matrix using this function.\n",
    "\n",
    "#### Input:\n",
    "\n",
    "Elements of the 3 X 3 Matrix\n",
    "\n",
    "#### Output:\n",
    "\n",
    "Matrix of Cofactors of 3 x 3 Matrix corresponding to 3 x3 Matrix.\n",
    "*****"
   ]
  },
  {
   "cell_type": "markdown",
   "id": "878cbc5b",
   "metadata": {},
   "source": [
    "******\n",
    "#### Solution:\n",
    "\n",
    "Cofactor of an element in matrix A is obtained when the minor Mij( eg. M11, M12, M23 etc) is multiplied with the term (-1)^(i+j). So all we need to do is to find the minor matrix and then multiply with factor (-1)^(i+j) to each element\n",
    "******"
   ]
  },
  {
   "cell_type": "code",
   "execution_count": 5,
   "id": "91906341",
   "metadata": {},
   "outputs": [],
   "source": [
    "# declaring library dependency\n",
    "# declaring functions\n",
    "import copy \n",
    "\n",
    "#Take input from user and make sure it is a number and not punctuations or string etc for the input of matrix elements\n",
    "\n",
    "def inputElement(msg,no_of_elements):     \n",
    "    while True:\n",
    "        try:\n",
    "            userInput = input(msg).split()\n",
    "            if len(userInput)!= no_of_elements:\n",
    "                print(\"No of elements not matching!\")\n",
    "                continue\n",
    "            else:\n",
    "                for ele in userInput:\n",
    "                    float(ele)\n",
    "        except ValueError:\n",
    "            print(\"Not a number! Try again.\")\n",
    "            continue     \n",
    "        else:\n",
    "            return list(map(float,userInput)) \n",
    "            break    \n",
    "            \n",
    "\n",
    "            \n",
    "# Creating the null Matrix for defined dimension default is 3X3 matrix\n",
    "\n",
    "def createEmptyMatrix(rows=3,cols=3):\n",
    "    mat = []\n",
    "    for i in range(rows):\n",
    "        mat.append([])\n",
    "        for j in range(cols):\n",
    "            mat[i].append(j*0)\n",
    "    \n",
    "    return mat\n",
    "\n",
    "# Calculate the determinant of 2X2 matrix\n",
    "\n",
    "def det2(m):\n",
    "    a = m[0][0]*m[1][1] - m[1][0]*m[0][1]\n",
    "    return a\n",
    "\n",
    "# Calculate minor of the matrix\n",
    "def minorMatrix(matrix,d):\n",
    "    \n",
    "    a = createEmptyMatrix() # Create empty matrix to store the values of determinant of minors\n",
    "    for col in range(d):\n",
    "        m = []\n",
    "        \n",
    "        m = copy.deepcopy(matrix)\n",
    "\n",
    "        [l.pop(col) for l in m ]\n",
    "\n",
    "        for row in range(d):\n",
    "            r = m.copy()\n",
    "\n",
    "            r.pop(row)\n",
    "            \n",
    "            # adding the minor value to the respective element in empty matrix to store values \n",
    "            # det2 is a function declared already and hence has been called directily inside this function\n",
    "            \n",
    "            a[row][col] += det2(r) \n",
    "            \n",
    "            # Underneath loop is meant for printing individual minors for reference if needed\n",
    "            '''\n",
    "            print('M' + str(row+1) + str(col+1) + '\\n')\n",
    "            for i in range(d-1):\n",
    "                print(r[i])\n",
    "            print()\n",
    "            '''\n",
    "    return a\n",
    "\n",
    "# Finding cofactor matrix for 3X3 matrix\n",
    "# This function is dependent on minorMatrix() and createEmptyMatrix()\n",
    "def cofactor3(m):\n",
    "    x = minorMatrix(m,3)\n",
    "    for i in range(3):\n",
    "        for j in range(3):\n",
    "            x[i][j] = x[i][j]*(-1)**(i+j)\n",
    "    \n",
    "    print(\"Cofactor Matrix : \\n\")\n",
    "    for i in range(3):\n",
    "        print(x[i])\n",
    "    print()\n",
    "    return x  \n",
    "    "
   ]
  },
  {
   "cell_type": "code",
   "execution_count": 6,
   "id": "4fce2d18",
   "metadata": {},
   "outputs": [
    {
     "name": "stdout",
     "output_type": "stream",
     "text": [
      "Creating 3X3 Matrix \n",
      "\n",
      "Enter elments for first Matrix Row 1 containing 3 elements 3 4 5\n",
      "Enter elments for first Matrix Row 2 containing 3 elements 2 3 5\n",
      "Enter elments for first Matrix Row 3 containing 3 elements 2 3 7\n"
     ]
    }
   ],
   "source": [
    "#Get the elements for 3X3 matrix\n",
    "print(\"Creating 3X3 Matrix \\n\")\n",
    "m = 3\n",
    "mx = []\n",
    "# Take input of the elements in the matrix\n",
    "for i in range(m):\n",
    "        mxTemp = inputElement(\"Enter elements for Matrix Row \" + str(i+1) + \" containing \" + str(m) + \" elements \", m)\n",
    "        mx.append(mxTemp)"
   ]
  },
  {
   "cell_type": "code",
   "execution_count": 7,
   "id": "43f2ab27",
   "metadata": {},
   "outputs": [
    {
     "name": "stdout",
     "output_type": "stream",
     "text": [
      "Cofactor Matrix : \n",
      "\n",
      "[6.0, -4.0, 0.0]\n",
      "[-13.0, 11.0, -1.0]\n",
      "[5.0, -5.0, 1.0]\n",
      "\n"
     ]
    }
   ],
   "source": [
    "#cofactor3 function has defined for direct calling the values\n",
    "co_fac = cofactor3(mx)"
   ]
  }
 ],
 "metadata": {
  "kernelspec": {
   "display_name": "Python 3 (ipykernel)",
   "language": "python",
   "name": "python3"
  },
  "language_info": {
   "codemirror_mode": {
    "name": "ipython",
    "version": 3
   },
   "file_extension": ".py",
   "mimetype": "text/x-python",
   "name": "python",
   "nbconvert_exporter": "python",
   "pygments_lexer": "ipython3",
   "version": "3.9.12"
  }
 },
 "nbformat": 4,
 "nbformat_minor": 5
}
