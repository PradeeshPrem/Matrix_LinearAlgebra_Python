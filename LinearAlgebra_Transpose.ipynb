{
 "cells": [
  {
   "cell_type": "markdown",
   "id": "827b0c61",
   "metadata": {},
   "source": [
    "## Question:\n",
    "    \n",
    "Write the Python code to find out the transpose of a matrix without using NumPy library\n",
    "\n",
    "Verify your result using NumPy function.\n",
    "\n",
    "Input:\n",
    "Number of rows, columns and elements of the matrix\n",
    "\n",
    "Output:\n",
    "Transpose of the matrix."
   ]
  },
  {
   "cell_type": "markdown",
   "id": "e430fc6e",
   "metadata": {},
   "source": [
    "## Solution\n",
    "\n",
    "#### Approach:\n",
    "   * Take input from the user to get the rows,columns and elements\n",
    "   \n",
    "   * Create a Null matrix of dimension reversed as input matrix dimension \n",
    " \n",
    "   * Fetch data and input the values inside the null matrix created"
   ]
  },
  {
   "cell_type": "code",
   "execution_count": null,
   "id": "b5017be9",
   "metadata": {},
   "outputs": [],
   "source": [
    "#Take input from user and make sure it is a non-zero positive integer and not punctuations or string\n",
    "\n",
    "def inputNumber(message):\n",
    "    while True:\n",
    "        try:\n",
    "            userInput = int(input(message))\n",
    "            if userInput <= 0:\n",
    "                print(\"Enter Positive Integer Value!\")\n",
    "                continue\n",
    "        except ValueError:\n",
    "            print(\"Not an integer! Try again.\")\n",
    "            continue\n",
    "        else:\n",
    "            return userInput \n",
    "            break \n",
    "\n",
    "#Take input from user and make sure it is a number and not punctuations or string etc for the input of matrix elements\n",
    "\n",
    "def inputElement(msg,no_of_elements):     \n",
    "    while True:\n",
    "        try:\n",
    "            userInput = input(msg).split()\n",
    "            if len(userInput)!= no_of_elements:\n",
    "                print(\"No of elements not matching!\")\n",
    "                continue\n",
    "            else:\n",
    "                for ele in userInput:\n",
    "                    float(ele)\n",
    "        except ValueError:\n",
    "            print(\"Not a number! Try again.\")\n",
    "            continue     \n",
    "        else:\n",
    "            return list(map(float,userInput)) \n",
    "            break    \n",
    "            \n",
    "\n",
    "            \n",
    "# Creating the null Matrix for defined dimension\n",
    "\n",
    "def createEmptyMatrix(rows,cols):\n",
    "    mat = []\n",
    "    for i in range(rows):\n",
    "        mat.append([])\n",
    "        for j in range(cols):\n",
    "            mat[i].append(j*0)\n",
    "    \n",
    "    return mat\n"
   ]
  },
  {
   "cell_type": "code",
   "execution_count": null,
   "id": "056c5a78",
   "metadata": {},
   "outputs": [],
   "source": [
    "# Get dimensions of the matrix\n",
    "mat_a_row = inputNumber(\"Number of rows in first matrix\\n\")\n",
    "mat_a_column = inputNumber(\"Number of columns in first matrix\\n\")\n",
    "\n",
    "\n",
    "# create empty matrix for storing results and empty list for storing elements for input matrices\n",
    "# Note that the mxT(Transpose Matrix) is created with reveresed dimension of mxA\n",
    "\n",
    "mxA = []\n",
    "mxT = createEmptyMatrix(mat_a_column,mat_a_row)\n",
    "\n",
    "# Take input of the elements in the matrix\n",
    "for i in range(mat_a_row):\n",
    "        mx = inputElement(\"Enter elments for first Matrix Row \" + str(i+1) + \" containing \" + str(mat_a_column) + \" elements \", mat_a_column)\n",
    "        mxA.append(mx)\n",
    "\n",
    "for r in range(mat_a_row):\n",
    "    for c in range(mat_a_column):\n",
    "        mxT[c][r] += mxA[r][c]\n",
    "\n",
    "\n",
    "print('\\n')\n",
    "print(\"Original Matrix :\\n\")\n",
    "print(mxA)\n",
    "print('\\n')\n",
    "print('Transpose of the Matrix :\\n')\n",
    "print(mxT)"
   ]
  },
  {
   "cell_type": "markdown",
   "id": "03567db8",
   "metadata": {},
   "source": [
    "#####   The Solution obtained can be cross checked using the numpy function "
   ]
  },
  {
   "cell_type": "code",
   "execution_count": null,
   "id": "796b7d6b",
   "metadata": {},
   "outputs": [],
   "source": [
    "import numpy as np\n",
    "a = np.array(mxA)\n",
    "print(\"Original Matrix using numpy:\\n\")\n",
    "print(*mxA)\n",
    "print('\\n')\n",
    "print('Transpose of the Matrix using numpy:\\n')\n",
    "print(a.T)"
   ]
  },
  {
   "cell_type": "code",
   "execution_count": null,
   "id": "b2d7ca77",
   "metadata": {},
   "outputs": [],
   "source": []
  }
 ],
 "metadata": {
  "kernelspec": {
   "display_name": "Python 3 (ipykernel)",
   "language": "python",
   "name": "python3"
  },
  "language_info": {
   "codemirror_mode": {
    "name": "ipython",
    "version": 3
   },
   "file_extension": ".py",
   "mimetype": "text/x-python",
   "name": "python",
   "nbconvert_exporter": "python",
   "pygments_lexer": "ipython3",
   "version": "3.9.12"
  }
 },
 "nbformat": 4,
 "nbformat_minor": 5
}
