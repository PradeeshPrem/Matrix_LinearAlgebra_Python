{
 "cells": [
  {
   "cell_type": "markdown",
   "id": "c1e98b58",
   "metadata": {},
   "source": [
    "# Computational Linear Algebra"
   ]
  },
  {
   "cell_type": "markdown",
   "id": "24ee6476",
   "metadata": {},
   "source": [
    "****\n",
    "### Q. Write the Python function to find the determinant of a 3 x 3 matrix.\n",
    "\n",
    "(Hint: You may limit the functions in question 1 and 2 to only the first row of the 3 x Matrix\n",
    "and find the sum)\n",
    "\n",
    "### Write python code find out determinant of the given 3 X3 Matrix using this function.\n",
    "\n",
    "#### Input:\n",
    "\n",
    "Elements of the 3 X 3 Matrix\n",
    "\n",
    "#### Output:\n",
    "\n",
    "Determinant of the Matrix.\n",
    "Verify your result using NumPy Library\n",
    "****"
   ]
  },
  {
   "cell_type": "code",
   "execution_count": 2,
   "id": "91906341",
   "metadata": {},
   "outputs": [],
   "source": [
    "# declaring library dependency\n",
    "# declaring functions\n",
    "import numpy as np\n",
    "\n",
    "#Take input from user and make sure it is a number and not punctuations or string etc for the input of matrix elements\n",
    "\n",
    "def inputElement(msg,no_of_elements):     \n",
    "    while True:\n",
    "        try:\n",
    "            userInput = input(msg).split()\n",
    "            if len(userInput)!= no_of_elements:\n",
    "                print(\"No of elements not matching!\")\n",
    "                continue\n",
    "            else:\n",
    "                for ele in userInput:\n",
    "                    float(ele)\n",
    "        except ValueError:\n",
    "            print(\"Not a number! Try again.\")\n",
    "            continue     \n",
    "        else:\n",
    "            return list(map(float,userInput)) \n",
    "            break    \n",
    "            \n",
    "\n",
    "\n",
    "def det3(m):\n",
    "    for i in range(3):\n",
    "        for j in range(3):\n",
    "            d = m[0][0]*(m[1][1]*m[2][2] - m[2][1]*m[1][2]) - m[0][1]*(m[1][0]*m[2][2] - m[2][0]*m[1][2]) + m[0][2]*(m[1][0]*m[2][1] - m[2][0]*m[1][1])\n",
    "    return d    \n",
    "    "
   ]
  },
  {
   "cell_type": "code",
   "execution_count": 3,
   "id": "c608a4a6",
   "metadata": {},
   "outputs": [
    {
     "name": "stdout",
     "output_type": "stream",
     "text": [
      "Creating 3X3 Matrix \n",
      "\n",
      "Enter elements for Matrix Row 1 containing 3 elements 1 2 3 \n",
      "Enter elements for Matrix Row 2 containing 3 elements 1 2 6\n",
      "Enter elements for Matrix Row 3 containing 3 elements 4 6 8\n"
     ]
    }
   ],
   "source": [
    "#Get the elements for 3X3 matrix\n",
    "print(\"Creating 3X3 Matrix \\n\")\n",
    "m = 3\n",
    "mx = []\n",
    "# Take input of the elements in the matrix\n",
    "for i in range(m):\n",
    "        mxTemp = inputElement(\"Enter elements for Matrix Row \" + str(i+1) + \" containing \" + str(m) + \" elements \", m)\n",
    "        mx.append(mxTemp)"
   ]
  },
  {
   "cell_type": "code",
   "execution_count": 5,
   "id": "7709fbb6",
   "metadata": {
    "scrolled": true
   },
   "outputs": [
    {
     "name": "stdout",
     "output_type": "stream",
     "text": [
      "Determinant of matrix using custom function :  6.0 \n",
      "\n",
      "Determinant of matrix using numpy function :  6.0 \n",
      "\n"
     ]
    }
   ],
   "source": [
    "a = det3(mx)\n",
    "b = np.linalg.det(mx)\n",
    "print('Determinant of matrix using custom function : ' ,a, '\\n')\n",
    "print('Determinant of matrix using numpy function : ' ,b, '\\n')"
   ]
  },
  {
   "cell_type": "code",
   "execution_count": null,
   "id": "e15cc5f9",
   "metadata": {},
   "outputs": [],
   "source": []
  }
 ],
 "metadata": {
  "kernelspec": {
   "display_name": "Python 3 (ipykernel)",
   "language": "python",
   "name": "python3"
  },
  "language_info": {
   "codemirror_mode": {
    "name": "ipython",
    "version": 3
   },
   "file_extension": ".py",
   "mimetype": "text/x-python",
   "name": "python",
   "nbconvert_exporter": "python",
   "pygments_lexer": "ipython3",
   "version": "3.9.12"
  }
 },
 "nbformat": 4,
 "nbformat_minor": 5
}
